{
 "cells": [
  {
   "cell_type": "code",
   "execution_count": 1,
   "metadata": {
    "collapsed": true,
    "pycharm": {
     "is_executing": false,
     "name": "#%%\n"
    }
   },
   "outputs": [
    {
     "name": "stderr",
     "text": [
      "D:\\anaconda3\\envs\\py36tf14\\lib\\site-packages\\IPython\\core\\interactiveshell.py:2698: DtypeWarning: Columns (4) have mixed types.Specify dtype option on import or set low_memory=False.\n",
      "  interactivity=interactivity, compiler=compiler, result=result)\n"
     ],
     "output_type": "stream"
    }
   ],
   "source": [
    "\n",
    "import pandas as pd\n",
    "import json\n",
    "\n",
    "\n",
    "train_data = pd.read_table('E:/data/oppo_ogeek_query_match/oppo_round1_train_20180929.txt',names=['prefix','query_prediction','title','tag','label'],header=None,encoding='utf-8').astype(str)\n",
    "\n",
    "tmp = train_data.groupby(['prefix','query_prediction']).agg({'title':list})"
   ]
  },
  {
   "cell_type": "code",
   "execution_count": 8,
   "outputs": [],
   "source": [
    "tmp2 = tmp.reset_index()"
   ],
   "metadata": {
    "collapsed": false,
    "pycharm": {
     "name": "#%%\n",
     "is_executing": false
    }
   }
  },
  {
   "cell_type": "code",
   "execution_count": 10,
   "outputs": [
    {
     "data": {
      "text/plain": "  prefix                                   query_prediction  \\\n0      #  {\"#*\": \"0.065\", \"#什么意思\": \"0.065\", \"#n/a是什么意思\":...   \n1      %              {\"%2c...8一\": \"0.053\", \"%2c\": \"0.044\"}   \n2      &  {\"&nbsp\": \"0.022\", \"&怎么读\": \"0.104\", \"&g90tvk75...   \n3    (女人                                                 {}   \n4   *p++                                                 {}   \n\n                                               title  \n0  [#WYD, #WYD, #3, #WYD, #5, #5, #WYD, #5, #5, #...  \n1  [1%, 1%, %, 1%, %, %, %, 2%, %, %, %, %, 1%, 1...  \n2  [&gt;, H&U, &gt;, &gt;, M&S, H&U, G&S, &gt;, &...  \n3                                   [여인의 향기 (女人的香气)]  \n4                               [*p++和*(p++)有什么区别？？]  ",
      "text/html": "<div>\n<style scoped>\n    .dataframe tbody tr th:only-of-type {\n        vertical-align: middle;\n    }\n\n    .dataframe tbody tr th {\n        vertical-align: top;\n    }\n\n    .dataframe thead th {\n        text-align: right;\n    }\n</style>\n<table border=\"1\" class=\"dataframe\">\n  <thead>\n    <tr style=\"text-align: right;\">\n      <th></th>\n      <th>prefix</th>\n      <th>query_prediction</th>\n      <th>title</th>\n    </tr>\n  </thead>\n  <tbody>\n    <tr>\n      <th>0</th>\n      <td>#</td>\n      <td>{\"#*\": \"0.065\", \"#什么意思\": \"0.065\", \"#n/a是什么意思\":...</td>\n      <td>[#WYD, #WYD, #3, #WYD, #5, #5, #WYD, #5, #5, #...</td>\n    </tr>\n    <tr>\n      <th>1</th>\n      <td>%</td>\n      <td>{\"%2c...8一\": \"0.053\", \"%2c\": \"0.044\"}</td>\n      <td>[1%, 1%, %, 1%, %, %, %, 2%, %, %, %, %, 1%, 1...</td>\n    </tr>\n    <tr>\n      <th>2</th>\n      <td>&amp;</td>\n      <td>{\"&amp;nbsp\": \"0.022\", \"&amp;怎么读\": \"0.104\", \"&amp;g90tvk75...</td>\n      <td>[&amp;gt;, H&amp;U, &amp;gt;, &amp;gt;, M&amp;S, H&amp;U, G&amp;S, &amp;gt;, &amp;...</td>\n    </tr>\n    <tr>\n      <th>3</th>\n      <td>(女人</td>\n      <td>{}</td>\n      <td>[여인의 향기 (女人的香气)]</td>\n    </tr>\n    <tr>\n      <th>4</th>\n      <td>*p++</td>\n      <td>{}</td>\n      <td>[*p++和*(p++)有什么区别？？]</td>\n    </tr>\n  </tbody>\n</table>\n</div>"
     },
     "metadata": {},
     "output_type": "execute_result",
     "execution_count": 10
    }
   ],
   "source": [
    "tmp2[:5]"
   ],
   "metadata": {
    "collapsed": false,
    "pycharm": {
     "name": "#%%\n",
     "is_executing": false
    }
   }
  },
  {
   "cell_type": "code",
   "execution_count": 22,
   "outputs": [
    {
     "data": {
      "text/plain": "0         None\n1         None\n2         None\n3         None\n4         None\n          ... \n157078    None\n157079    None\n157080    None\n157081    None\n157082    None\nLength: 157083, dtype: object"
     },
     "metadata": {},
     "output_type": "execute_result",
     "execution_count": 22
    }
   ],
   "source": [
    "import jieba\n",
    "import jieba.analyse\n",
    "import jieba.posseg\n",
    "term_set = set()\n",
    "\n",
    "def getDict(line):\n",
    "    line = dict(line)\n",
    "    sentence1 = line['prefix']\n",
    "    sentence_seged1 = jieba.posseg.cut(sentence1.strip())\n",
    "    for x in sentence_seged1:\n",
    "        if not len(x.word)<2:\n",
    "            term_set.add(x.word+':'+x.flag)\n",
    "   \n",
    "    sentence2s = line['title']\n",
    "    for sentence2 in sentence2s:\n",
    "        sentence_seged2 = jieba.posseg.cut(sentence2.strip())\n",
    "        for x in sentence_seged2:\n",
    "            if not len(x.word)<2:\n",
    "                term_set.add(x.word+':'+x.flag)\n",
    "        \n",
    "    sentence_probs3 = json.loads(line['query_prediction'],encoding='utf-8')\n",
    "    for sentence3,prob in sentence_probs3.items():\n",
    "        sentence_seged3 = jieba.posseg.cut(sentence3.strip())\n",
    "        for x in sentence_seged3:\n",
    "            if not len(x.word)<2:\n",
    "                term_set.add(x.word+':'+x.flag)\n",
    "    tt = 1\n",
    "    \n",
    "tmp2.apply(getDict,axis=1)\n",
    "\n"
   ],
   "metadata": {
    "collapsed": false,
    "pycharm": {
     "name": "#%%\n",
     "is_executing": false
    }
   }
  },
  {
   "cell_type": "code",
   "execution_count": 23,
   "outputs": [
    {
     "data": {
      "text/plain": "193232"
     },
     "metadata": {},
     "output_type": "execute_result",
     "execution_count": 23
    }
   ],
   "source": [
    "len(term_set)"
   ],
   "metadata": {
    "collapsed": false,
    "pycharm": {
     "name": "#%%\n",
     "is_executing": false
    }
   }
  },
  {
   "cell_type": "code",
   "execution_count": 25,
   "outputs": [],
   "source": [
    "with open('term_set','w',encoding='utf-8') as f:\n",
    "    res = [x+'\\n' for x in list(term_set)]\n",
    "    f.writelines(res)\n",
    "\n"
   ],
   "metadata": {
    "collapsed": false,
    "pycharm": {
     "name": "#%%\n",
     "is_executing": false
    }
   }
  }
 ],
 "metadata": {
  "kernelspec": {
   "display_name": "Python 3",
   "language": "python",
   "name": "python3"
  },
  "language_info": {
   "codemirror_mode": {
    "name": "ipython",
    "version": 2
   },
   "file_extension": ".py",
   "mimetype": "text/x-python",
   "name": "python",
   "nbconvert_exporter": "python",
   "pygments_lexer": "ipython2",
   "version": "2.7.6"
  },
  "pycharm": {
   "stem_cell": {
    "cell_type": "raw",
    "source": [],
    "metadata": {
     "collapsed": false
    }
   }
  }
 },
 "nbformat": 4,
 "nbformat_minor": 0
}