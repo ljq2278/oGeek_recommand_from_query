{
 "cells": [
  {
   "cell_type": "code",
   "execution_count": 1,
   "metadata": {
    "collapsed": true,
    "pycharm": {
     "is_executing": false
    }
   },
   "outputs": [
    {
     "name": "stderr",
     "text": [
      "D:\\anaconda3\\envs\\py36tf14\\lib\\site-packages\\IPython\\core\\interactiveshell.py:2698: DtypeWarning: Columns (4) have mixed types.Specify dtype option on import or set low_memory=False.\n",
      "  interactivity=interactivity, compiler=compiler, result=result)\n"
     ],
     "output_type": "stream"
    }
   ],
   "source": [
    "import pandas as pd\n",
    "import numpy as np\n",
    "from sklearn.metrics import f1_score\n",
    "\n",
    "\n",
    "# 由于无法线上测试了，直接拿验证集来做测试集\n",
    "train_data = pd.read_table('E:/data/oppo_ogeek_query_match/oppo_round1_train_20180929.txt',names=['prefix','query_prediction','title','tag','label'],header=None,encoding='utf-8').astype(str)\n",
    "test_data = pd.read_table('E:/data/oppo_ogeek_query_match/oppo_round1_vali_20180929.txt',names=['prefix','query_prediction','title','tag','label'],header=None,encoding='utf-8').astype(str)\n"
   ]
  },
  {
   "cell_type": "code",
   "execution_count": 2,
   "outputs": [],
   "source": [
    "tmp_train = train_data.groupby('prefix').count()\n",
    "tmp_test = test_data.groupby('prefix').count()"
   ],
   "metadata": {
    "collapsed": false,
    "pycharm": {
     "name": "#%%\n",
     "is_executing": false
    }
   }
  },
  {
   "cell_type": "code",
   "execution_count": 3,
   "outputs": [
    {
     "name": "stdout",
     "text": [
      "157083 23303\n"
     ],
     "output_type": "stream"
    }
   ],
   "source": [
    "print(len(tmp_train),len(tmp_test))"
   ],
   "metadata": {
    "collapsed": false,
    "pycharm": {
     "name": "#%%\n",
     "is_executing": false
    }
   }
  },
  {
   "cell_type": "code",
   "execution_count": 4,
   "outputs": [
    {
     "name": "stdout",
     "text": [
      "17632\n"
     ],
     "output_type": "stream"
    }
   ],
   "source": [
    "# 查看测试集中多少prefix是训练集中有的，如果有很多没有，则要进行结构-点击挖掘，\n",
    "# 寻找query的结构-内容（各predict结构-内容） 与 目标的tag-title-结构-内容之间的点击关联\n",
    "\n",
    "tmp_merge_inner = tmp_train.merge(tmp_test,how='inner',on='prefix')\n",
    "print(len(tmp_merge_inner))"
   ],
   "metadata": {
    "collapsed": false,
    "pycharm": {
     "name": "#%%\n",
     "is_executing": false
    }
   }
  },
  {
   "cell_type": "code",
   "execution_count": null,
   "outputs": [],
   "source": [
    "# 先解决关联的测试集里训练集中有的"
   ],
   "metadata": {
    "collapsed": false,
    "pycharm": {
     "name": "#%%\n"
    }
   }
  },
  {
   "cell_type": "code",
   "execution_count": 14,
   "outputs": [
    {
     "data": {
      "text/plain": "                   prefix                                   query_prediction  \\\n706      are you sleeping  {\"are you sleeping翻译\": \"0.070\", \"are you sleep...   \n750             break up   {\"break up in a small town铃声\": \"0.066\", \"break...   \n894             good time  {\"good time女生版舞蹈教程\": \"0.008\", \"good time歌词\": \"...   \n1087            坐月子吃什么水果好     {\"坐月子吃什么水果好?\": \"0.092\", \"坐月子吃什么水果好呢\": \"0.058\"}   \n1187            sogou.com                                                 {}   \n...                   ...                                                ...   \n1992677         爱我的人和我爱的人                                                 {}   \n1993656         oracle11g  {\"oracle11g安装教程\": \"0.677\", \"oracle11g安装\": \"0.0...   \n1995215        糖尿病人能喝小米粥吗                                                 {}   \n1997351        支付宝到账500万元  {\"支付宝到账500万元铃声\": \"0.774\", \"支付宝到账500万元语音\": \"0.0...   \n1997831         全国计算机等级考试     {\"全国计算机等级考试题\": \"0.004\", \"全国计算机等级考试网\": \"0.024\"}   \n\n                                    title tag label  \n706      Are You Sleeping? (Brother John)  音乐     1  \n750                              Break up  百科     0  \n894                             Good Time  音乐     1  \n1087                            坐月子吃什么水果好  健康     1  \n1187                                 搜狗小说  网站     0  \n...                                   ...  ..   ...  \n1992677                         爱我的人和我爱的人  百科     0  \n1993656                 求Oracle11g的安装包，谢谢  知道     0  \n1995215                   糖尿病人能喝小米粥吗？谢谢你！  健康     0  \n1997351                   支付宝到账500万元 (铃声)  音乐     1  \n1997831                       全国计算机等级考试教程  百科     0  \n\n[3738 rows x 5 columns]",
      "text/html": "<div>\n<style scoped>\n    .dataframe tbody tr th:only-of-type {\n        vertical-align: middle;\n    }\n\n    .dataframe tbody tr th {\n        vertical-align: top;\n    }\n\n    .dataframe thead th {\n        text-align: right;\n    }\n</style>\n<table border=\"1\" class=\"dataframe\">\n  <thead>\n    <tr style=\"text-align: right;\">\n      <th></th>\n      <th>prefix</th>\n      <th>query_prediction</th>\n      <th>title</th>\n      <th>tag</th>\n      <th>label</th>\n    </tr>\n  </thead>\n  <tbody>\n    <tr>\n      <th>706</th>\n      <td>are you sleeping</td>\n      <td>{\"are you sleeping翻译\": \"0.070\", \"are you sleep...</td>\n      <td>Are You Sleeping? (Brother John)</td>\n      <td>音乐</td>\n      <td>1</td>\n    </tr>\n    <tr>\n      <th>750</th>\n      <td>break up</td>\n      <td>{\"break up in a small town铃声\": \"0.066\", \"break...</td>\n      <td>Break up</td>\n      <td>百科</td>\n      <td>0</td>\n    </tr>\n    <tr>\n      <th>894</th>\n      <td>good time</td>\n      <td>{\"good time女生版舞蹈教程\": \"0.008\", \"good time歌词\": \"...</td>\n      <td>Good Time</td>\n      <td>音乐</td>\n      <td>1</td>\n    </tr>\n    <tr>\n      <th>1087</th>\n      <td>坐月子吃什么水果好</td>\n      <td>{\"坐月子吃什么水果好?\": \"0.092\", \"坐月子吃什么水果好呢\": \"0.058\"}</td>\n      <td>坐月子吃什么水果好</td>\n      <td>健康</td>\n      <td>1</td>\n    </tr>\n    <tr>\n      <th>1187</th>\n      <td>sogou.com</td>\n      <td>{}</td>\n      <td>搜狗小说</td>\n      <td>网站</td>\n      <td>0</td>\n    </tr>\n    <tr>\n      <th>...</th>\n      <td>...</td>\n      <td>...</td>\n      <td>...</td>\n      <td>...</td>\n      <td>...</td>\n    </tr>\n    <tr>\n      <th>1992677</th>\n      <td>爱我的人和我爱的人</td>\n      <td>{}</td>\n      <td>爱我的人和我爱的人</td>\n      <td>百科</td>\n      <td>0</td>\n    </tr>\n    <tr>\n      <th>1993656</th>\n      <td>oracle11g</td>\n      <td>{\"oracle11g安装教程\": \"0.677\", \"oracle11g安装\": \"0.0...</td>\n      <td>求Oracle11g的安装包，谢谢</td>\n      <td>知道</td>\n      <td>0</td>\n    </tr>\n    <tr>\n      <th>1995215</th>\n      <td>糖尿病人能喝小米粥吗</td>\n      <td>{}</td>\n      <td>糖尿病人能喝小米粥吗？谢谢你！</td>\n      <td>健康</td>\n      <td>0</td>\n    </tr>\n    <tr>\n      <th>1997351</th>\n      <td>支付宝到账500万元</td>\n      <td>{\"支付宝到账500万元铃声\": \"0.774\", \"支付宝到账500万元语音\": \"0.0...</td>\n      <td>支付宝到账500万元 (铃声)</td>\n      <td>音乐</td>\n      <td>1</td>\n    </tr>\n    <tr>\n      <th>1997831</th>\n      <td>全国计算机等级考试</td>\n      <td>{\"全国计算机等级考试题\": \"0.004\", \"全国计算机等级考试网\": \"0.024\"}</td>\n      <td>全国计算机等级考试教程</td>\n      <td>百科</td>\n      <td>0</td>\n    </tr>\n  </tbody>\n</table>\n<p>3738 rows × 5 columns</p>\n</div>"
     },
     "metadata": {},
     "output_type": "execute_result",
     "execution_count": 14
    }
   ],
   "source": [
    "# tmp2 = train_data[train_data['prefix']=='滑雪']['query_prediction'].iloc[0]\n",
    "tmp_ind = train_data['prefix'].str.len()>8\n",
    "\n",
    "tmp2 = train_data[tmp_ind]\n",
    "tmp2"
   ],
   "metadata": {
    "collapsed": false,
    "pycharm": {
     "name": "#%%\n",
     "is_executing": false
    }
   }
  },
  {
   "cell_type": "code",
   "execution_count": null,
   "outputs": [],
   "source": [
    "'{\"滑雪大冒险破解版下载\": \"0.034\", ' \\\n",
    "'\"滑雪大冒险破解版\": \"0.242\", ' \\\n",
    "'\"滑雪大冒险\": \"0.172\", ' \\\n",
    "'\"滑雪大冒险无限金币版\": \"0.032\", ' \\\n",
    "'\"滑雪英语\": \"0.012\", ' \\\n",
    "'\"滑雪大冒险西游版\": \"0.011\", ' \\\n",
    "'\"滑雪大冒险中文破解版\": \"0.026\", ' \\\n",
    "'\"滑雪大冒险2破解版\": \"0.067\", ' \\\n",
    "'\"滑雪大冒险。\": \"0.010\", ' \\\n",
    "'\"滑雪大冒险2\": \"0.091\"}'\n",
    "\n",
    "tt = 1"
   ],
   "metadata": {
    "collapsed": false,
    "pycharm": {
     "name": "#%%\n",
     "is_executing": false
    }
   }
  },
  {
   "cell_type": "code",
   "execution_count": 4,
   "outputs": [
    {
     "data": {
      "text/plain": "        prefix                                   query_prediction  \\\n1763137      #  {\"#*\": \"0.065\", \"#什么意思\": \"0.065\", \"#n/a是什么意思\":...   \n1897586      #  {\"#*\": \"0.065\", \"#什么意思\": \"0.065\", \"#n/a是什么意思\":...   \n1353179      #  {\"#*\": \"0.065\", \"#什么意思\": \"0.065\", \"#n/a是什么意思\":...   \n693277       #  {\"#*\": \"0.065\", \"#什么意思\": \"0.065\", \"#n/a是什么意思\":...   \n1908141      #  {\"#*\": \"0.065\", \"#什么意思\": \"0.065\", \"#n/a是什么意思\":...   \n...        ...                                                ...   \n685654    사랑해요  {\"사랑해요是什么意思\": \"0.049\", \"사랑해요翻译\": \"0.017\", \"사랑해...   \n1321319  안녕하세요  {\"안녕하세요?\": \"0.011\", \"안녕하세요是什么意思\": \"0.026\", \"안녕...   \n678267   안녕하세요  {\"안녕하세요?\": \"0.011\", \"안녕하세요是什么意思\": \"0.026\", \"안녕...   \n1239293     청춘                                                 {}   \n1239291     청춘                                                 {}   \n\n                title tag label  \n1763137            #5  百科     0  \n1897586          #WYD  音乐     0  \n1353179            #3  百科     1  \n693277             #3  百科     0  \n1908141          #WYD  音乐     0  \n...               ...  ..   ...  \n685654         날 사랑해요  音乐     1  \n1321319         안녕하세요  音乐     0  \n678267   안녕하세요. (你好.)  音乐     1  \n1239293           청춘가  音乐     0  \n1239291            청춘  音乐     1  \n\n[1999999 rows x 5 columns]",
      "text/html": "<div>\n<style scoped>\n    .dataframe tbody tr th:only-of-type {\n        vertical-align: middle;\n    }\n\n    .dataframe tbody tr th {\n        vertical-align: top;\n    }\n\n    .dataframe thead th {\n        text-align: right;\n    }\n</style>\n<table border=\"1\" class=\"dataframe\">\n  <thead>\n    <tr style=\"text-align: right;\">\n      <th></th>\n      <th>prefix</th>\n      <th>query_prediction</th>\n      <th>title</th>\n      <th>tag</th>\n      <th>label</th>\n    </tr>\n  </thead>\n  <tbody>\n    <tr>\n      <th>1763137</th>\n      <td>#</td>\n      <td>{\"#*\": \"0.065\", \"#什么意思\": \"0.065\", \"#n/a是什么意思\":...</td>\n      <td>#5</td>\n      <td>百科</td>\n      <td>0</td>\n    </tr>\n    <tr>\n      <th>1897586</th>\n      <td>#</td>\n      <td>{\"#*\": \"0.065\", \"#什么意思\": \"0.065\", \"#n/a是什么意思\":...</td>\n      <td>#WYD</td>\n      <td>音乐</td>\n      <td>0</td>\n    </tr>\n    <tr>\n      <th>1353179</th>\n      <td>#</td>\n      <td>{\"#*\": \"0.065\", \"#什么意思\": \"0.065\", \"#n/a是什么意思\":...</td>\n      <td>#3</td>\n      <td>百科</td>\n      <td>1</td>\n    </tr>\n    <tr>\n      <th>693277</th>\n      <td>#</td>\n      <td>{\"#*\": \"0.065\", \"#什么意思\": \"0.065\", \"#n/a是什么意思\":...</td>\n      <td>#3</td>\n      <td>百科</td>\n      <td>0</td>\n    </tr>\n    <tr>\n      <th>1908141</th>\n      <td>#</td>\n      <td>{\"#*\": \"0.065\", \"#什么意思\": \"0.065\", \"#n/a是什么意思\":...</td>\n      <td>#WYD</td>\n      <td>音乐</td>\n      <td>0</td>\n    </tr>\n    <tr>\n      <th>...</th>\n      <td>...</td>\n      <td>...</td>\n      <td>...</td>\n      <td>...</td>\n      <td>...</td>\n    </tr>\n    <tr>\n      <th>685654</th>\n      <td>사랑해요</td>\n      <td>{\"사랑해요是什么意思\": \"0.049\", \"사랑해요翻译\": \"0.017\", \"사랑해...</td>\n      <td>날 사랑해요</td>\n      <td>音乐</td>\n      <td>1</td>\n    </tr>\n    <tr>\n      <th>1321319</th>\n      <td>안녕하세요</td>\n      <td>{\"안녕하세요?\": \"0.011\", \"안녕하세요是什么意思\": \"0.026\", \"안녕...</td>\n      <td>안녕하세요</td>\n      <td>音乐</td>\n      <td>0</td>\n    </tr>\n    <tr>\n      <th>678267</th>\n      <td>안녕하세요</td>\n      <td>{\"안녕하세요?\": \"0.011\", \"안녕하세요是什么意思\": \"0.026\", \"안녕...</td>\n      <td>안녕하세요. (你好.)</td>\n      <td>音乐</td>\n      <td>1</td>\n    </tr>\n    <tr>\n      <th>1239293</th>\n      <td>청춘</td>\n      <td>{}</td>\n      <td>청춘가</td>\n      <td>音乐</td>\n      <td>0</td>\n    </tr>\n    <tr>\n      <th>1239291</th>\n      <td>청춘</td>\n      <td>{}</td>\n      <td>청춘</td>\n      <td>音乐</td>\n      <td>1</td>\n    </tr>\n  </tbody>\n</table>\n<p>1999999 rows × 5 columns</p>\n</div>"
     },
     "metadata": {},
     "output_type": "execute_result",
     "execution_count": 4
    }
   ],
   "source": [
    "tmp2\n",
    "\n"
   ],
   "metadata": {
    "collapsed": false,
    "pycharm": {
     "name": "#%%\n",
     "is_executing": false
    }
   }
  }
 ],
 "metadata": {
  "kernelspec": {
   "display_name": "Python 3",
   "language": "python",
   "name": "python3"
  },
  "language_info": {
   "codemirror_mode": {
    "name": "ipython",
    "version": 2
   },
   "file_extension": ".py",
   "mimetype": "text/x-python",
   "name": "python",
   "nbconvert_exporter": "python",
   "pygments_lexer": "ipython2",
   "version": "2.7.6"
  },
  "pycharm": {
   "stem_cell": {
    "cell_type": "raw",
    "source": [],
    "metadata": {
     "collapsed": false
    }
   }
  }
 },
 "nbformat": 4,
 "nbformat_minor": 0
}